{
 "cells": [
  {
   "cell_type": "markdown",
   "metadata": {},
   "source": [
    "### Python's object model and reference system\n",
    "Resources:\n",
    "\n",
    "- https://docs.python.org/3/library/copy.html\n",
    "\n",
    "- python faq: https://docs.python.org/3/faq/programming.html#id17\n",
    "\n",
    "- reddit discussion: https://www.reddit.com/r/learnpython/comments/1afldr/why_is_copying_a_list_so_damn_difficult_in_python/\n",
    "\n"
   ]
  },
  {
   "cell_type": "markdown",
   "metadata": {},
   "source": [
    "### 1D list"
   ]
  },
  {
   "cell_type": "code",
   "execution_count": 1,
   "metadata": {},
   "outputs": [
    {
     "name": "stdout",
     "output_type": "stream",
     "text": [
      "identity of lista: 125412253889280\n",
      "identity of listb: 125412253884672\n",
      "item at index 0 in lista: 1\n",
      "item at index 0 in listb: 1\n",
      "identity of item at index 0 in lista: 125412301603056\n",
      "identity of item at index 0 in listb: 125412301603056\n"
     ]
    }
   ],
   "source": [
    "lista =[1,2,3,4,5]\n",
    "listb =lista.copy()\n",
    "\n",
    "print(f\"identity of lista: {id(lista)}\")\n",
    "print(f\"identity of listb: {id(listb)}\")\n",
    "\n",
    "ind = 0\n",
    "print(f\"item at index {ind} in lista: {lista[ind]}\")\n",
    "print(f\"item at index {ind} in listb: {listb[ind]}\")\n",
    "\n",
    "print(f\"identity of item at index {ind} in lista: {id(lista[ind])}\")\n",
    "print(f\"identity of item at index {ind} in listb: {id(listb[ind])}\")\n",
    "\n",
    "\n"
   ]
  },
  {
   "cell_type": "code",
   "execution_count": 2,
   "metadata": {},
   "outputs": [
    {
     "name": "stdout",
     "output_type": "stream",
     "text": [
      "item at index 0 in lista: 1\n",
      "item at index 0 in listb: 99\n",
      "identity of item at index 0 in lista: 125412301603056\n",
      "identity of item at index 0 in listb: 125412301606192\n"
     ]
    }
   ],
   "source": [
    "listb[0]=99\n",
    "\n",
    "ind = 0\n",
    "print(f\"item at index {ind} in lista: {lista[ind]}\")\n",
    "print(f\"item at index {ind} in listb: {listb[ind]}\")\n",
    "\n",
    "print(f\"identity of item at index {ind} in lista: {id(lista[ind])}\")\n",
    "print(f\"identity of item at index {ind} in listb: {id(listb[ind])}\")\n",
    "\n"
   ]
  },
  {
   "cell_type": "markdown",
   "metadata": {},
   "source": [
    "### 2D list"
   ]
  },
  {
   "cell_type": "code",
   "execution_count": 3,
   "metadata": {},
   "outputs": [
    {
     "name": "stdout",
     "output_type": "stream",
     "text": [
      "identity of lista: 125412253646592\n",
      "identity of listb: 125412253882048\n",
      "item at index [0][0] in lista: 1\n",
      "item at index [0][0] in listb: 1\n",
      "identity of item at index [0][0] in lista: 125412301603056\n",
      "identity of item at index [0][0] in listb: 125412301603056\n"
     ]
    }
   ],
   "source": [
    "lista =[[1,2,3,4,5]]\n",
    "listb =lista.copy()\n",
    "\n",
    "print(f\"identity of lista: {id(lista)}\")\n",
    "print(f\"identity of listb: {id(listb)}\")\n",
    "\n",
    "ind = 0\n",
    "print(f\"item at index [{ind}][{ind}] in lista: {lista[ind][ind]}\")\n",
    "print(f\"item at index [{ind}][{ind}] in listb: {listb[ind][ind]}\")\n",
    "\n",
    "\n",
    "print(f\"identity of item at index [{ind}][{ind}] in lista: {id(lista[ind][ind])}\")\n",
    "print(f\"identity of item at index [{ind}][{ind}] in listb: {id(listb[ind][ind])}\")\n",
    "\n",
    "\n"
   ]
  },
  {
   "cell_type": "code",
   "execution_count": 4,
   "metadata": {},
   "outputs": [
    {
     "name": "stdout",
     "output_type": "stream",
     "text": [
      "item at index [0][0] in lista: 99\n",
      "item at index [0][0] in listb: 99\n",
      "identity of item at index [0][0] in lista: 125412301606192\n",
      "identity of item at index [0][0] in listb: 125412301606192\n"
     ]
    }
   ],
   "source": [
    "listb[0][0]=99\n",
    "\n",
    "ind = 0\n",
    "print(f\"item at index [{ind}][{ind}] in lista: {lista[ind][ind]}\")\n",
    "print(f\"item at index [{ind}][{ind}] in listb: {listb[ind][ind]}\")\n",
    "\n",
    "\n",
    "print(f\"identity of item at index [{ind}][{ind}] in lista: {id(lista[ind][ind])}\")\n",
    "print(f\"identity of item at index [{ind}][{ind}] in listb: {id(listb[ind][ind])}\")\n",
    "\n"
   ]
  },
  {
   "cell_type": "markdown",
   "metadata": {},
   "source": [
    "### With deepcopy"
   ]
  },
  {
   "cell_type": "code",
   "execution_count": 5,
   "metadata": {},
   "outputs": [
    {
     "name": "stdout",
     "output_type": "stream",
     "text": [
      "identity of lista: 125412253782592\n",
      "identity of listb: 125412253884672\n",
      "item at index [0][0] in lista: 1\n",
      "item at index [0][0] in listb: 1\n",
      "identity of item at index [0][0] in lista: 125412301603056\n",
      "identity of item at index [0][0] in listb: 125412301603056\n"
     ]
    }
   ],
   "source": [
    "import copy\n",
    "\n",
    "lista =[[1,2,3,4,5]]\n",
    "listb =copy.deepcopy(lista)\n",
    "\n",
    "print(f\"identity of lista: {id(lista)}\")\n",
    "print(f\"identity of listb: {id(listb)}\")\n",
    "\n",
    "ind = 0\n",
    "print(f\"item at index [{ind}][{ind}] in lista: {lista[ind][ind]}\")\n",
    "print(f\"item at index [{ind}][{ind}] in listb: {listb[ind][ind]}\")\n",
    "\n",
    "\n",
    "print(f\"identity of item at index [{ind}][{ind}] in lista: {id(lista[ind][ind])}\")\n",
    "print(f\"identity of item at index [{ind}][{ind}] in listb: {id(listb[ind][ind])}\")\n",
    "\n",
    "\n"
   ]
  },
  {
   "cell_type": "code",
   "execution_count": 6,
   "metadata": {},
   "outputs": [
    {
     "name": "stdout",
     "output_type": "stream",
     "text": [
      "item at index [0][0] in lista: 1\n",
      "item at index [0][0] in listb: 99\n",
      "identity of item at index [0][0] in lista: 125412301603056\n",
      "identity of item at index [0][0] in listb: 125412301606192\n"
     ]
    }
   ],
   "source": [
    "listb[0][0]=99\n",
    "\n",
    "ind = 0\n",
    "print(f\"item at index [{ind}][{ind}] in lista: {lista[ind][ind]}\")\n",
    "print(f\"item at index [{ind}][{ind}] in listb: {listb[ind][ind]}\")\n",
    "\n",
    "\n",
    "print(f\"identity of item at index [{ind}][{ind}] in lista: {id(lista[ind][ind])}\")\n",
    "print(f\"identity of item at index [{ind}][{ind}] in listb: {id(listb[ind][ind])}\")\n",
    "\n"
   ]
  },
  {
   "cell_type": "code",
   "execution_count": 8,
   "metadata": {},
   "outputs": [],
   "source": [
    "## python itertools.product impelementation for one iterable to understand the logic\n",
    "\n",
    "def product(iterable, repeat=1):\n",
    "    # product('ABCD', 'xy') → Ax Ay Bx By Cx Cy Dx Dy\n",
    "    # product(range(2), repeat=3) → 000 001 010 011 100 101 110 111\n",
    "\n",
    "    if repeat < 0:\n",
    "        raise ValueError('repeat argument cannot be negative')\n",
    "    pools = [tuple(iterable)] * repeat\n",
    "\n",
    "    result = [[]]\n",
    "    for pool in pools:\n",
    "        result = [x+[y] for x in result for y in pool]\n",
    "        print(pool, result)\n",
    "\n",
    "    for prod in result:\n",
    "        yield tuple(prod)\n"
   ]
  },
  {
   "cell_type": "code",
   "execution_count": 10,
   "metadata": {},
   "outputs": [
    {
     "name": "stdout",
     "output_type": "stream",
     "text": [
      "('+', '*') [['+'], ['*']]\n",
      "('+', '*') [['+', '+'], ['+', '*'], ['*', '+'], ['*', '*']]\n",
      "('+', '*') [['+', '+', '+'], ['+', '+', '*'], ['+', '*', '+'], ['+', '*', '*'], ['*', '+', '+'], ['*', '+', '*'], ['*', '*', '+'], ['*', '*', '*']]\n"
     ]
    },
    {
     "data": {
      "text/plain": [
       "[('+', '+', '+'),\n",
       " ('+', '+', '*'),\n",
       " ('+', '*', '+'),\n",
       " ('+', '*', '*'),\n",
       " ('*', '+', '+'),\n",
       " ('*', '+', '*'),\n",
       " ('*', '*', '+'),\n",
       " ('*', '*', '*')]"
      ]
     },
     "execution_count": 10,
     "metadata": {},
     "output_type": "execute_result"
    }
   ],
   "source": [
    "list(product('+*', repeat=3))"
   ]
  },
  {
   "cell_type": "code",
   "execution_count": null,
   "metadata": {},
   "outputs": [],
   "source": [
    "# "
   ]
  }
 ],
 "metadata": {
  "kernelspec": {
   "display_name": "base",
   "language": "python",
   "name": "python3"
  },
  "language_info": {
   "codemirror_mode": {
    "name": "ipython",
    "version": 3
   },
   "file_extension": ".py",
   "mimetype": "text/x-python",
   "name": "python",
   "nbconvert_exporter": "python",
   "pygments_lexer": "ipython3",
   "version": "3.10.9"
  }
 },
 "nbformat": 4,
 "nbformat_minor": 2
}
