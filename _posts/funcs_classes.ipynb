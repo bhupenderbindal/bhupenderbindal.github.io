{
 "cells": [
  {
   "cell_type": "code",
   "execution_count": 49,
   "metadata": {},
   "outputs": [],
   "source": [
    "def twice_wrapper(func):\n",
    "    def twice(*args, **kwargs):\n",
    "        \"\"\"twice function\n",
    "        \"\"\"\n",
    "        print(func.__name__ + \" was called\")\n",
    "        return 2* func(*args, **kwargs)\n",
    "    return twice"
   ]
  },
  {
   "cell_type": "code",
   "execution_count": 50,
   "metadata": {},
   "outputs": [],
   "source": [
    "@twice_wrapper\n",
    "def f(x):\n",
    "    print(f.__name__ + \" was called\")\n",
    "    return x"
   ]
  },
  {
   "cell_type": "code",
   "execution_count": 51,
   "metadata": {},
   "outputs": [
    {
     "name": "stdout",
     "output_type": "stream",
     "text": [
      "f was called\n",
      "twice was called\n"
     ]
    },
    {
     "data": {
      "text/plain": [
       "4"
      ]
     },
     "execution_count": 51,
     "metadata": {},
     "output_type": "execute_result"
    }
   ],
   "source": [
    "f(2)"
   ]
  },
  {
   "cell_type": "code",
   "execution_count": 52,
   "metadata": {},
   "outputs": [
    {
     "data": {
      "text/plain": [
       "'twice'"
      ]
     },
     "execution_count": 52,
     "metadata": {},
     "output_type": "execute_result"
    }
   ],
   "source": [
    "f.__name__"
   ]
  },
  {
   "cell_type": "code",
   "execution_count": 53,
   "metadata": {},
   "outputs": [
    {
     "data": {
      "text/plain": [
       "'twice function\\n        '"
      ]
     },
     "execution_count": 53,
     "metadata": {},
     "output_type": "execute_result"
    }
   ],
   "source": [
    "f.__doc__"
   ]
  },
  {
   "cell_type": "code",
   "execution_count": 54,
   "metadata": {},
   "outputs": [],
   "source": [
    "def g(x):\n",
    "    return x"
   ]
  },
  {
   "cell_type": "code",
   "execution_count": 55,
   "metadata": {},
   "outputs": [],
   "source": [
    "t =twice_wrapper(g)"
   ]
  },
  {
   "cell_type": "code",
   "execution_count": 56,
   "metadata": {},
   "outputs": [
    {
     "name": "stdout",
     "output_type": "stream",
     "text": [
      "g was called\n"
     ]
    },
    {
     "data": {
      "text/plain": [
       "4"
      ]
     },
     "execution_count": 56,
     "metadata": {},
     "output_type": "execute_result"
    }
   ],
   "source": [
    "t(2)"
   ]
  },
  {
   "cell_type": "markdown",
   "metadata": {},
   "source": [
    "################\n"
   ]
  },
  {
   "cell_type": "code",
   "execution_count": 63,
   "metadata": {},
   "outputs": [],
   "source": [
    "def existing_function(x):\n",
    "    return x * 3"
   ]
  },
  {
   "cell_type": "code",
   "execution_count": 64,
   "metadata": {},
   "outputs": [],
   "source": [
    "def wrapper_func(f, *args, **kwargs):\n",
    "    return 2 * f( *args, **kwargs)"
   ]
  },
  {
   "cell_type": "code",
   "execution_count": 65,
   "metadata": {},
   "outputs": [
    {
     "data": {
      "text/plain": [
       "'444444'"
      ]
     },
     "execution_count": 65,
     "metadata": {},
     "output_type": "execute_result"
    }
   ],
   "source": [
    "wrapper_func(existing_function,\"4\")"
   ]
  },
  {
   "cell_type": "code",
   "execution_count": 71,
   "metadata": {},
   "outputs": [
    {
     "ename": "TypeError",
     "evalue": "ww() missing 1 required positional argument: 'x'",
     "output_type": "error",
     "traceback": [
      "\u001b[0;31m---------------------------------------------------------------------------\u001b[0m",
      "\u001b[0;31mTypeError\u001b[0m                                 Traceback (most recent call last)",
      "\u001b[1;32m/home/bhupender/Documents/git_projects/bhupenderbindal.github.io/_posts/funcs_classes.ipynb Cell 13\u001b[0m line \u001b[0;36m1\n\u001b[0;32m----> <a href='vscode-notebook-cell:/home/bhupender/Documents/git_projects/bhupenderbindal.github.io/_posts/funcs_classes.ipynb#X24sZmlsZQ%3D%3D?line=0'>1</a>\u001b[0m \u001b[39m@wrapper_func\u001b[39;49m\n\u001b[1;32m      <a href='vscode-notebook-cell:/home/bhupender/Documents/git_projects/bhupenderbindal.github.io/_posts/funcs_classes.ipynb#X24sZmlsZQ%3D%3D?line=1'>2</a>\u001b[0m \u001b[39mdef\u001b[39;49;00m \u001b[39mww\u001b[39;49m(x):\n\u001b[1;32m      <a href='vscode-notebook-cell:/home/bhupender/Documents/git_projects/bhupenderbindal.github.io/_posts/funcs_classes.ipynb#X24sZmlsZQ%3D%3D?line=2'>3</a>\u001b[0m     \u001b[39mreturn\u001b[39;49;00m x \u001b[39m*\u001b[39;49m \u001b[39m3\u001b[39;49m\n",
      "\u001b[1;32m/home/bhupender/Documents/git_projects/bhupenderbindal.github.io/_posts/funcs_classes.ipynb Cell 13\u001b[0m line \u001b[0;36m2\n\u001b[1;32m      <a href='vscode-notebook-cell:/home/bhupender/Documents/git_projects/bhupenderbindal.github.io/_posts/funcs_classes.ipynb#X24sZmlsZQ%3D%3D?line=0'>1</a>\u001b[0m \u001b[39mdef\u001b[39;00m \u001b[39mwrapper_func\u001b[39m(f, \u001b[39m*\u001b[39margs, \u001b[39m*\u001b[39m\u001b[39m*\u001b[39mkwargs):\n\u001b[0;32m----> <a href='vscode-notebook-cell:/home/bhupender/Documents/git_projects/bhupenderbindal.github.io/_posts/funcs_classes.ipynb#X24sZmlsZQ%3D%3D?line=1'>2</a>\u001b[0m     \u001b[39mreturn\u001b[39;00m \u001b[39m2\u001b[39m \u001b[39m*\u001b[39m f( \u001b[39m*\u001b[39;49margs, \u001b[39m*\u001b[39;49m\u001b[39m*\u001b[39;49mkwargs)\n",
      "\u001b[0;31mTypeError\u001b[0m: ww() missing 1 required positional argument: 'x'"
     ]
    }
   ],
   "source": [
    "@wrapper_func\n",
    "def ww(x):\n",
    "    return x * 3"
   ]
  },
  {
   "cell_type": "markdown",
   "metadata": {},
   "source": [
    "###########################"
   ]
  },
  {
   "cell_type": "code",
   "execution_count": 30,
   "metadata": {},
   "outputs": [],
   "source": [
    "import functools\n",
    "\n",
    "def twice_decorator(f):\n",
    "    @functools.wraps(f)\n",
    "    def wrapper_function(*args, **kwargs):\n",
    "        return 2* f(*args, **kwargs)\n",
    "    return wrapper_function"
   ]
  },
  {
   "cell_type": "code",
   "execution_count": 31,
   "metadata": {},
   "outputs": [],
   "source": [
    "@twice_decorator\n",
    "def existing_function(x):\n",
    "    return x * 3"
   ]
  },
  {
   "cell_type": "code",
   "execution_count": 32,
   "metadata": {},
   "outputs": [
    {
     "data": {
      "text/plain": [
       "'444444'"
      ]
     },
     "execution_count": 32,
     "metadata": {},
     "output_type": "execute_result"
    }
   ],
   "source": [
    "existing_function(\"4\")"
   ]
  },
  {
   "cell_type": "code",
   "execution_count": 33,
   "metadata": {},
   "outputs": [
    {
     "data": {
      "text/plain": [
       "200"
      ]
     },
     "execution_count": 33,
     "metadata": {},
     "output_type": "execute_result"
    }
   ],
   "source": [
    "def some_function(x):\n",
    "    return x * x\n",
    "decorated_some_function = twice_decorator(some_function)\n",
    "decorated_some_function(10)"
   ]
  },
  {
   "cell_type": "markdown",
   "metadata": {},
   "source": [
    "### normal accesing of class method as an attribute vs accessing it as a method"
   ]
  },
  {
   "cell_type": "code",
   "execution_count": 57,
   "metadata": {},
   "outputs": [
    {
     "name": "stdout",
     "output_type": "stream",
     "text": [
      "<bound method C.x of <__main__.C object at 0x7f7ee6651a90>>\n"
     ]
    },
    {
     "data": {
      "text/plain": [
       "{'_x': 42}"
      ]
     },
     "execution_count": 57,
     "metadata": {},
     "output_type": "execute_result"
    }
   ],
   "source": [
    "class C:\n",
    "    def __init__(self):\n",
    "        # Private data\n",
    "        self._x = 42\n",
    "\n",
    "    def x(self):\n",
    "        print(\"Running getter\")\n",
    "        return self._x\n",
    "\n",
    "c = C()\n",
    "print(c.x)\n",
    "c.__dict__"
   ]
  },
  {
   "cell_type": "code",
   "execution_count": 58,
   "metadata": {},
   "outputs": [
    {
     "name": "stdout",
     "output_type": "stream",
     "text": [
      "<bound method C.x of <__main__.C object at 0x7f7ee6674fd0>>\n",
      "Running getter\n",
      "8\n"
     ]
    },
    {
     "data": {
      "text/plain": [
       "{'y': 42}"
      ]
     },
     "execution_count": 58,
     "metadata": {},
     "output_type": "execute_result"
    }
   ],
   "source": [
    "class C:\n",
    "    def __init__(self):\n",
    "        # Private data\n",
    "        self.y = 42\n",
    "    \n",
    "    def x(self):\n",
    "        print(\"Running getter\")\n",
    "        return 8\n",
    "c = C()\n",
    "print(c.x)\n",
    "print(c.x())\n",
    "c.__dict__"
   ]
  },
  {
   "cell_type": "markdown",
   "metadata": {},
   "source": [
    "### making a class method to an attribute"
   ]
  },
  {
   "cell_type": "code",
   "execution_count": 64,
   "metadata": {},
   "outputs": [],
   "source": [
    "class my_property:\n",
    "    def __init__(self, getter_func, setter_func=None):\n",
    "        self.getter_func = getter_func\n",
    "        self.setter_func = setter_func\n",
    "\n",
    "    def __get__(self, obj, cls):\n",
    "        return self.getter_func(obj)\n",
    "\n",
    "    def setter(self, setter_func):\n",
    "        return my_property(self.getter_func, setter_func)\n",
    "\n",
    "    def __set__(self, obj, value):\n",
    "        return self.setter_func(obj, value)\n",
    "\n",
    "\n",
    "class C:\n",
    "    def __init__(self) -> None:\n",
    "        self._x = 42\n",
    "\n",
    "    # @my_property\n",
    "    def x(self):\n",
    "        return self._x\n",
    "    x = my_property(x)\n",
    "    @x.setter\n",
    "    def x(self, new_value):\n",
    "        if new_value < self._x:\n",
    "            raise ValueError(\"new value must be bigger than old one\")\n",
    "\n",
    "        self._x = new_value"
   ]
  },
  {
   "cell_type": "code",
   "execution_count": 65,
   "metadata": {},
   "outputs": [
    {
     "data": {
      "text/plain": [
       "42"
      ]
     },
     "execution_count": 65,
     "metadata": {},
     "output_type": "execute_result"
    }
   ],
   "source": [
    "c= C()\n",
    "\n",
    "c.x\n"
   ]
  },
  {
   "cell_type": "code",
   "execution_count": 66,
   "metadata": {},
   "outputs": [
    {
     "data": {
      "text/plain": [
       "88"
      ]
     },
     "execution_count": 66,
     "metadata": {},
     "output_type": "execute_result"
    }
   ],
   "source": [
    "c.x=88\n",
    "c.x"
   ]
  },
  {
   "cell_type": "code",
   "execution_count": 62,
   "metadata": {},
   "outputs": [
    {
     "name": "stdout",
     "output_type": "stream",
     "text": [
      "foo\n",
      "foo\n"
     ]
    }
   ],
   "source": [
    "class C:\n",
    "    @staticmethod\n",
    "    def foo():\n",
    "        print(\"foo\")\n",
    "\n",
    "C.foo()  # foo\n",
    "c= C()\n",
    "c.foo()  # foo"
   ]
  },
  {
   "cell_type": "code",
   "execution_count": 63,
   "metadata": {},
   "outputs": [
    {
     "name": "stdout",
     "output_type": "stream",
     "text": [
      "foo\n",
      "foo\n"
     ]
    }
   ],
   "source": [
    "class my_staticmethod:\n",
    "    def __init__(self, func):\n",
    "        self.func = func\n",
    "\n",
    "    def __get__(self, obj, cls):\n",
    "        return self.func\n",
    "\n",
    "\n",
    "class C:\n",
    "    @my_staticmethod\n",
    "    def foo():\n",
    "        print(\"foo\")\n",
    "C.foo()  # foo\n",
    "c= C()\n",
    "c.foo()  # foo"
   ]
  },
  {
   "cell_type": "code",
   "execution_count": null,
   "metadata": {},
   "outputs": [],
   "source": []
  }
 ],
 "metadata": {
  "kernelspec": {
   "display_name": "smallds",
   "language": "python",
   "name": "python3"
  },
  "language_info": {
   "codemirror_mode": {
    "name": "ipython",
    "version": 3
   },
   "file_extension": ".py",
   "mimetype": "text/x-python",
   "name": "python",
   "nbconvert_exporter": "python",
   "pygments_lexer": "ipython3",
   "version": "3.11.4"
  }
 },
 "nbformat": 4,
 "nbformat_minor": 2
}
